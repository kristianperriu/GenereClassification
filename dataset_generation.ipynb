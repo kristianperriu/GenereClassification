{
  "cells": [
    {
      "cell_type": "code",
      "metadata": {
        "cell_id": "c7bbbf54b6bd4b3099863c82c7367521",
        "source_hash": "efd9a63a",
        "execution_start": 1685349551490,
        "execution_millis": 100,
        "deepnote_to_be_reexecuted": false,
        "deepnote_cell_type": "code",
        "id": "BaAUATQCWoF9"
      },
      "source": [
        "import pandas as pd\n",
        "import lyricsgenius"
      ],
      "execution_count": null,
      "outputs": []
    },
    {
      "cell_type": "markdown",
      "source": [
        "A csv file with all the artist names we will be taking song lyrics from."
      ],
      "metadata": {
        "id": "p7cMn4dUWpxX"
      }
    },
    {
      "cell_type": "code",
      "metadata": {
        "cell_id": "5dfdc31f6c274fc6a85a7ec54c77c178",
        "source_hash": "ec46dd2a",
        "execution_start": 1685349551636,
        "execution_millis": 62,
        "deepnote_table_state": {
          "sortBy": [],
          "filters": [],
          "pageSize": 100,
          "pageIndex": 0
        },
        "deepnote_table_loading": false,
        "deepnote_to_be_reexecuted": false,
        "deepnote_cell_type": "code",
        "id": "1yTJMaCvWoGC",
        "outputId": "20c2b136-bd6a-4ae2-ed8b-8165a13377d0"
      },
      "source": [
        "df = pd.read_csv(\"data/artists_name.csv\")\n",
        "df"
      ],
      "execution_count": null,
      "outputs": [
        {
          "output_type": "execute_result",
          "execution_count": 2,
          "data": {
            "application/vnd.deepnote.dataframe.v3+json": {
              "column_count": 4,
              "row_count": 30,
              "columns": [
                {
                  "name": "rap",
                  "dtype": "object",
                  "stats": {
                    "unique_count": 30,
                    "nan_count": 0,
                    "categories": [
                      {
                        "name": "Drake",
                        "count": 1
                      },
                      {
                        "name": "Pop Smoke",
                        "count": 1
                      },
                      {
                        "name": "28 others",
                        "count": 28
                      }
                    ]
                  }
                },
                {
                  "name": "rock",
                  "dtype": "object",
                  "stats": {
                    "unique_count": 30,
                    "nan_count": 0,
                    "categories": [
                      {
                        "name": "The Beatles",
                        "count": 1
                      },
                      {
                        "name": "Rolling Stones",
                        "count": 1
                      },
                      {
                        "name": "28 others",
                        "count": 28
                      }
                    ]
                  }
                },
                {
                  "name": "country",
                  "dtype": "object",
                  "stats": {
                    "unique_count": 30,
                    "nan_count": 0,
                    "categories": [
                      {
                        "name": "John Denver",
                        "count": 1
                      },
                      {
                        "name": "Johnny Cash",
                        "count": 1
                      },
                      {
                        "name": "28 others",
                        "count": 28
                      }
                    ]
                  }
                },
                {
                  "name": "pop",
                  "dtype": "object",
                  "stats": {
                    "unique_count": 29,
                    "nan_count": 1,
                    "categories": [
                      {
                        "name": "Taylor Swift",
                        "count": 1
                      },
                      {
                        "name": "28 others",
                        "count": 28
                      },
                      {
                        "name": "Missing",
                        "count": 1
                      }
                    ]
                  }
                },
                {
                  "name": "_deepnote_index_column",
                  "dtype": "int64"
                }
              ],
              "rows": [
                {
                  "rap": "Drake",
                  "rock": "The Beatles",
                  "country": "John Denver",
                  "pop": "Taylor Swift",
                  "_deepnote_index_column": 0
                },
                {
                  "rap": "Pop Smoke",
                  "rock": "Rolling Stones",
                  "country": "Johnny Cash",
                  "pop": "Morgan Wallen",
                  "_deepnote_index_column": 1
                },
                {
                  "rap": "Lil Baby",
                  "rock": "Queen",
                  "country": "Hank Williams",
                  "pop": "Ed Sheeran",
                  "_deepnote_index_column": 2
                },
                {
                  "rap": "Juice WRLD",
                  "rock": "Guns N’ Roses",
                  "country": "Merle Haggard",
                  "pop": "Luke Combs",
                  "_deepnote_index_column": 3
                },
                {
                  "rap": "Polo G",
                  "rock": "AC/DC",
                  "country": "Patsy Cline",
                  "pop": "Jonas Brothers",
                  "_deepnote_index_column": 4
                },
                {
                  "rap": "Moneybagg Yo",
                  "rock": "Led Zeppelin",
                  "country": "Jimmie Rodgers",
                  "pop": "SZA",
                  "_deepnote_index_column": 5
                },
                {
                  "rap": "Megan Thee Stallion",
                  "rock": "Bob Dylan",
                  "country": "Bill Monroe",
                  "pop": "The Weekend",
                  "_deepnote_index_column": 6
                },
                {
                  "rap": "Lil Durk",
                  "rock": "Pink Floyd",
                  "country": "Carter Family",
                  "pop": "Miley Cyrus",
                  "_deepnote_index_column": 7
                },
                {
                  "rap": "Rod Wave",
                  "rock": "David Bowie",
                  "country": "Willie Nelson",
                  "pop": "Harry Styles",
                  "_deepnote_index_column": 8
                },
                {
                  "rap": "J. Cole",
                  "rock": "The Who",
                  "country": "Waylon Jennings",
                  "pop": "Lana Del Rey",
                  "_deepnote_index_column": 9
                }
              ]
            },
            "text/plain": "                           rap                   rock               country  \\\n0                        Drake            The Beatles           John Denver   \n1                    Pop Smoke         Rolling Stones           Johnny Cash   \n2                     Lil Baby                  Queen         Hank Williams   \n3                   Juice WRLD          Guns N’ Roses         Merle Haggard   \n4                       Polo G                  AC/DC           Patsy Cline   \n5                 Moneybagg Yo           Led Zeppelin        Jimmie Rodgers   \n6          Megan Thee Stallion              Bob Dylan           Bill Monroe   \n7                     Lil Durk             Pink Floyd         Carter Family   \n8                     Rod Wave            David Bowie         Willie Nelson   \n9                      J. Cole                The Who       Waylon Jennings   \n10                  Kanye West              Aerosmith          George Jones   \n11                      DaBaby             The Eagles         Conway Twitty   \n12                Pooh Shiesty                Nirvana             Bob Wills   \n13                     Cardi B              Metallica         Tammy Wynette   \n14                 Jack Harlow         Lynyrd Skynyrd          Loretta Lynn   \n15                    Lil Tjay              The Doors            Buck Owens   \n16                      Eminem              The Clash           Kitty Wells   \n17  YoungBoy Never Broke Again               Coldplay          Dolly Parton   \n18                Travis Scott             The Police        Lefty Frizzell   \n19                 Roddy Ricch               Bon Jovi             Ray Price   \n20              Kendrick Lamar          Talking Heads           Eddy Arnold   \n21                       Gunna           Foo Fighters           Ernest Tubb   \n22                 Kodak Black  Red Hot Chili Peppers           Webb Pierce   \n23                      Future      Smashing Pumpkins         Ronnie Milsap   \n24                       Latto             Green Days            Jim Reeves   \n25                  Nardo Wick                 Slayes         Charley Pride   \n26                       JAY-Z            Iron Maiden  The Stanley Brothers   \n27                 Nicky Minaj          Black Sabbath         George Strait   \n28                   Lil Wayne                 Eagles         Marty Robbins   \n29                Lil Uzi Vert             Elton John          Garth Brooks   \n\n                pop  \n0      Taylor Swift  \n1     Morgan Wallen  \n2        Ed Sheeran  \n3        Luke Combs  \n4    Jonas Brothers  \n5               SZA  \n6       The Weekend  \n7       Miley Cyrus  \n8      Harry Styles  \n9      Lana Del Rey  \n10         Dua Lipa  \n11     Selena Gomez  \n12    Ariana Grande  \n13            Adele  \n14          Beyoncé  \n15         Doja Cat  \n16              Sia  \n17        Lady Gaga  \n18          Madonna  \n19    Billie Eilish  \n20  Whitney Houston  \n21     Shawn Mendes  \n22          Rihanna  \n23       Bruno Mars  \n24         Maroon 5  \n25       Katy Perry  \n26              NaN  \n27       Zayn Malik  \n28    Justin Bieber  \n29          Shakira  ",
            "text/html": "<div>\n<style scoped>\n    .dataframe tbody tr th:only-of-type {\n        vertical-align: middle;\n    }\n\n    .dataframe tbody tr th {\n        vertical-align: top;\n    }\n\n    .dataframe thead th {\n        text-align: right;\n    }\n</style>\n<table border=\"1\" class=\"dataframe\">\n  <thead>\n    <tr style=\"text-align: right;\">\n      <th></th>\n      <th>rap</th>\n      <th>rock</th>\n      <th>country</th>\n      <th>pop</th>\n    </tr>\n  </thead>\n  <tbody>\n    <tr>\n      <th>0</th>\n      <td>Drake</td>\n      <td>The Beatles</td>\n      <td>John Denver</td>\n      <td>Taylor Swift</td>\n    </tr>\n    <tr>\n      <th>1</th>\n      <td>Pop Smoke</td>\n      <td>Rolling Stones</td>\n      <td>Johnny Cash</td>\n      <td>Morgan Wallen</td>\n    </tr>\n    <tr>\n      <th>2</th>\n      <td>Lil Baby</td>\n      <td>Queen</td>\n      <td>Hank Williams</td>\n      <td>Ed Sheeran</td>\n    </tr>\n    <tr>\n      <th>3</th>\n      <td>Juice WRLD</td>\n      <td>Guns N’ Roses</td>\n      <td>Merle Haggard</td>\n      <td>Luke Combs</td>\n    </tr>\n    <tr>\n      <th>4</th>\n      <td>Polo G</td>\n      <td>AC/DC</td>\n      <td>Patsy Cline</td>\n      <td>Jonas Brothers</td>\n    </tr>\n    <tr>\n      <th>5</th>\n      <td>Moneybagg Yo</td>\n      <td>Led Zeppelin</td>\n      <td>Jimmie Rodgers</td>\n      <td>SZA</td>\n    </tr>\n    <tr>\n      <th>6</th>\n      <td>Megan Thee Stallion</td>\n      <td>Bob Dylan</td>\n      <td>Bill Monroe</td>\n      <td>The Weekend</td>\n    </tr>\n    <tr>\n      <th>7</th>\n      <td>Lil Durk</td>\n      <td>Pink Floyd</td>\n      <td>Carter Family</td>\n      <td>Miley Cyrus</td>\n    </tr>\n    <tr>\n      <th>8</th>\n      <td>Rod Wave</td>\n      <td>David Bowie</td>\n      <td>Willie Nelson</td>\n      <td>Harry Styles</td>\n    </tr>\n    <tr>\n      <th>9</th>\n      <td>J. Cole</td>\n      <td>The Who</td>\n      <td>Waylon Jennings</td>\n      <td>Lana Del Rey</td>\n    </tr>\n    <tr>\n      <th>10</th>\n      <td>Kanye West</td>\n      <td>Aerosmith</td>\n      <td>George Jones</td>\n      <td>Dua Lipa</td>\n    </tr>\n    <tr>\n      <th>11</th>\n      <td>DaBaby</td>\n      <td>The Eagles</td>\n      <td>Conway Twitty</td>\n      <td>Selena Gomez</td>\n    </tr>\n    <tr>\n      <th>12</th>\n      <td>Pooh Shiesty</td>\n      <td>Nirvana</td>\n      <td>Bob Wills</td>\n      <td>Ariana Grande</td>\n    </tr>\n    <tr>\n      <th>13</th>\n      <td>Cardi B</td>\n      <td>Metallica</td>\n      <td>Tammy Wynette</td>\n      <td>Adele</td>\n    </tr>\n    <tr>\n      <th>14</th>\n      <td>Jack Harlow</td>\n      <td>Lynyrd Skynyrd</td>\n      <td>Loretta Lynn</td>\n      <td>Beyoncé</td>\n    </tr>\n    <tr>\n      <th>15</th>\n      <td>Lil Tjay</td>\n      <td>The Doors</td>\n      <td>Buck Owens</td>\n      <td>Doja Cat</td>\n    </tr>\n    <tr>\n      <th>16</th>\n      <td>Eminem</td>\n      <td>The Clash</td>\n      <td>Kitty Wells</td>\n      <td>Sia</td>\n    </tr>\n    <tr>\n      <th>17</th>\n      <td>YoungBoy Never Broke Again</td>\n      <td>Coldplay</td>\n      <td>Dolly Parton</td>\n      <td>Lady Gaga</td>\n    </tr>\n    <tr>\n      <th>18</th>\n      <td>Travis Scott</td>\n      <td>The Police</td>\n      <td>Lefty Frizzell</td>\n      <td>Madonna</td>\n    </tr>\n    <tr>\n      <th>19</th>\n      <td>Roddy Ricch</td>\n      <td>Bon Jovi</td>\n      <td>Ray Price</td>\n      <td>Billie Eilish</td>\n    </tr>\n    <tr>\n      <th>20</th>\n      <td>Kendrick Lamar</td>\n      <td>Talking Heads</td>\n      <td>Eddy Arnold</td>\n      <td>Whitney Houston</td>\n    </tr>\n    <tr>\n      <th>21</th>\n      <td>Gunna</td>\n      <td>Foo Fighters</td>\n      <td>Ernest Tubb</td>\n      <td>Shawn Mendes</td>\n    </tr>\n    <tr>\n      <th>22</th>\n      <td>Kodak Black</td>\n      <td>Red Hot Chili Peppers</td>\n      <td>Webb Pierce</td>\n      <td>Rihanna</td>\n    </tr>\n    <tr>\n      <th>23</th>\n      <td>Future</td>\n      <td>Smashing Pumpkins</td>\n      <td>Ronnie Milsap</td>\n      <td>Bruno Mars</td>\n    </tr>\n    <tr>\n      <th>24</th>\n      <td>Latto</td>\n      <td>Green Days</td>\n      <td>Jim Reeves</td>\n      <td>Maroon 5</td>\n    </tr>\n    <tr>\n      <th>25</th>\n      <td>Nardo Wick</td>\n      <td>Slayes</td>\n      <td>Charley Pride</td>\n      <td>Katy Perry</td>\n    </tr>\n    <tr>\n      <th>26</th>\n      <td>JAY-Z</td>\n      <td>Iron Maiden</td>\n      <td>The Stanley Brothers</td>\n      <td>NaN</td>\n    </tr>\n    <tr>\n      <th>27</th>\n      <td>Nicky Minaj</td>\n      <td>Black Sabbath</td>\n      <td>George Strait</td>\n      <td>Zayn Malik</td>\n    </tr>\n    <tr>\n      <th>28</th>\n      <td>Lil Wayne</td>\n      <td>Eagles</td>\n      <td>Marty Robbins</td>\n      <td>Justin Bieber</td>\n    </tr>\n    <tr>\n      <th>29</th>\n      <td>Lil Uzi Vert</td>\n      <td>Elton John</td>\n      <td>Garth Brooks</td>\n      <td>Shakira</td>\n    </tr>\n  </tbody>\n</table>\n</div>"
          },
          "metadata": {}
        }
      ]
    },
    {
      "cell_type": "code",
      "metadata": {
        "cell_id": "355fb4bc915e49e298a13faacbdad7f2",
        "source_hash": "60c1e375",
        "execution_start": 1685349551703,
        "execution_millis": 5,
        "deepnote_to_be_reexecuted": false,
        "deepnote_cell_type": "code",
        "id": "AedSw0zvWoGD",
        "outputId": "420eca83-32fa-4c1e-e819-bb6d03e54873"
      },
      "source": [
        "artists = {}\n",
        "\n",
        "for col in df.columns:\n",
        "    artists[col] = list(df[col])\n",
        "\n",
        "print(artists)"
      ],
      "execution_count": null,
      "outputs": [
        {
          "name": "stdout",
          "text": "{'rap': ['Drake', 'Pop Smoke', 'Lil Baby', 'Juice WRLD', 'Polo G', 'Moneybagg Yo', 'Megan Thee Stallion', 'Lil Durk', 'Rod Wave', 'J. Cole', 'Kanye West', 'DaBaby', 'Pooh Shiesty', 'Cardi B', 'Jack Harlow', 'Lil Tjay', 'Eminem', 'YoungBoy Never Broke Again', 'Travis Scott', 'Roddy Ricch', 'Kendrick Lamar', 'Gunna', 'Kodak Black', 'Future', 'Latto', 'Nardo Wick', 'JAY-Z', 'Nicky Minaj', 'Lil Wayne', 'Lil Uzi Vert'], 'rock': ['The Beatles', 'Rolling Stones', 'Queen', 'Guns N’ Roses', 'AC/DC', 'Led Zeppelin', 'Bob Dylan', 'Pink Floyd', 'David Bowie', 'The Who', 'Aerosmith', 'The Eagles', 'Nirvana', 'Metallica', 'Lynyrd Skynyrd', 'The Doors', 'The Clash', 'Coldplay', 'The Police', 'Bon Jovi', 'Talking Heads', 'Foo Fighters', 'Red Hot Chili Peppers', 'Smashing Pumpkins', 'Green Days', 'Slayes', 'Iron Maiden', 'Black Sabbath', 'Eagles', 'Elton John'], 'country': ['John Denver', 'Johnny Cash', 'Hank Williams', 'Merle Haggard', 'Patsy Cline', 'Jimmie Rodgers', 'Bill Monroe', 'Carter Family', 'Willie Nelson', 'Waylon Jennings', 'George Jones', 'Conway Twitty', 'Bob Wills', 'Tammy Wynette', 'Loretta Lynn', 'Buck Owens', 'Kitty Wells', 'Dolly Parton', 'Lefty Frizzell', 'Ray Price', 'Eddy Arnold', 'Ernest Tubb', 'Webb Pierce', 'Ronnie Milsap', 'Jim Reeves', 'Charley Pride', 'The Stanley Brothers', 'George Strait', 'Marty Robbins', 'Garth Brooks'], 'pop': ['Taylor Swift', 'Morgan Wallen', 'Ed Sheeran', 'Luke Combs', 'Jonas Brothers', 'SZA', 'The Weekend', 'Miley Cyrus', 'Harry Styles', 'Lana Del Rey', 'Dua Lipa', 'Selena Gomez', 'Ariana Grande', 'Adele', 'Beyoncé', 'Doja Cat', 'Sia', 'Lady Gaga', 'Madonna', 'Billie Eilish', 'Whitney Houston', 'Shawn Mendes', 'Rihanna', 'Bruno Mars', 'Maroon 5', 'Katy Perry', nan, 'Zayn Malik', 'Justin Bieber', 'Shakira']}\n",
          "output_type": "stream"
        }
      ]
    },
    {
      "cell_type": "markdown",
      "source": [
        "Using the Genious API to access the lyrics."
      ],
      "metadata": {
        "id": "W6JTsnITWwOf"
      }
    },
    {
      "cell_type": "code",
      "metadata": {
        "cell_id": "2164772648bc4c3691d1f0a7aa89915e",
        "source_hash": "f40196b0",
        "execution_start": 1685349551710,
        "execution_millis": 5,
        "deepnote_to_be_reexecuted": false,
        "deepnote_cell_type": "code",
        "id": "QZtiqFfYWoGE"
      },
      "source": [
        "genius = lyricsgenius.Genius('secret-key-we-shouldnt-share',\n",
        "                            remove_section_headers=True,\n",
        "                            skip_non_songs=True,\n",
        "                            excluded_terms=[\"(Remix)\", \"(Live)\"])"
      ],
      "execution_count": null,
      "outputs": []
    },
    {
      "cell_type": "markdown",
      "source": [
        "This part will generate all the text files we will use on the preprocessing stage. What will exactly happen is that each artist will have its own text file with all of the selected songs from them and the song lyrics. These text files will then be processed on the other notebook where the lyrics will be extracted and processed. We will not go in depth about this part because its out of the scope of this project."
      ],
      "metadata": {
        "id": "3zx4_eovW8o_"
      }
    },
    {
      "cell_type": "code",
      "metadata": {
        "cell_id": "e12d6c1a7850497f9f02cb5719098ef8",
        "source_hash": "6ed21db7",
        "execution_start": 1685349551756,
        "execution_millis": 5907066,
        "deepnote_to_be_reexecuted": false,
        "deepnote_cell_type": "code",
        "id": "ACkZ-fGrWoGE",
        "outputId": "b1770a1d-0faf-474e-d763-a5ff762cb800"
      },
      "source": [
        "for artist in artists['rock']:\n",
        "\n",
        "    done = False\n",
        "\n",
        "    while not done:\n",
        "\n",
        "        try:\n",
        "            songs = (genius.search_artist(artist, max_songs=100,sort='popularity').songs)\n",
        "            s = [song.lyrics for song in songs]\n",
        "\n",
        "            with open(f'rock_lyrics/{artist}.txt', 'w') as f:\n",
        "                f.write((\"\\n \\n    <|endoftext|>  \\n  \\n\".join(s)))\n",
        "\n",
        "            done = True\n",
        "\n",
        "        except:\n",
        "            print('Error try again')"
      ],
      "execution_count": null,
      "outputs": [
        {
          "name": "stdout",
          "text": "Searching for songs by The Beatles...\n\n",
          "output_type": "stream"
        },
        {
          "output_type": "error",
          "ename": "KernelInterrupted",
          "evalue": "Execution interrupted by the Jupyter kernel.",
          "traceback": [
            "\u001b[0;31m---------------------------------------------------------------------------\u001b[0m",
            "\u001b[0;31mKernelInterrupted\u001b[0m: Execution interrupted by the Jupyter kernel."
          ]
        }
      ]
    }
  ],
  "nbformat": 4,
  "nbformat_minor": 0,
  "metadata": {
    "deepnote": {},
    "orig_nbformat": 2,
    "deepnote_notebook_id": "f4771878feed4d0fa05c45b93e9d33d7",
    "deepnote_persisted_session": {
      "createdAt": "2023-05-28T09:16:15.696Z"
    },
    "deepnote_execution_queue": [],
    "colab": {
      "provenance": []
    }
  }
}